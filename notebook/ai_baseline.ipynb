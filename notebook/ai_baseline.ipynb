{
 "cells": [
  {
   "cell_type": "code",
   "execution_count": 3,
   "metadata": {},
   "outputs": [
    {
     "data": {
      "text/html": [
       "<div>\n",
       "<style scoped>\n",
       "    .dataframe tbody tr th:only-of-type {\n",
       "        vertical-align: middle;\n",
       "    }\n",
       "\n",
       "    .dataframe tbody tr th {\n",
       "        vertical-align: top;\n",
       "    }\n",
       "\n",
       "    .dataframe thead th {\n",
       "        text-align: right;\n",
       "    }\n",
       "</style>\n",
       "<table border=\"1\" class=\"dataframe\">\n",
       "  <thead>\n",
       "    <tr style=\"text-align: right;\">\n",
       "      <th></th>\n",
       "      <th>timestamp</th>\n",
       "      <th>x</th>\n",
       "      <th>y</th>\n",
       "      <th>vx</th>\n",
       "      <th>vy</th>\n",
       "      <th>action</th>\n",
       "      <th>ping_ms</th>\n",
       "      <th>cheat_flag</th>\n",
       "      <th>speed</th>\n",
       "      <th>accel_x</th>\n",
       "      <th>accel_y</th>\n",
       "      <th>accel_mag</th>\n",
       "      <th>speed_roll_mean</th>\n",
       "      <th>speed_roll_std</th>\n",
       "    </tr>\n",
       "  </thead>\n",
       "  <tbody>\n",
       "    <tr>\n",
       "      <th>0</th>\n",
       "      <td>8.300000e-08</td>\n",
       "      <td>0.515433</td>\n",
       "      <td>-0.550234</td>\n",
       "      <td>0.515433</td>\n",
       "      <td>-0.550234</td>\n",
       "      <td>2</td>\n",
       "      <td>37</td>\n",
       "      <td>0</td>\n",
       "      <td>0.753942</td>\n",
       "      <td>0.000000</td>\n",
       "      <td>0.000000</td>\n",
       "      <td>0.000000</td>\n",
       "      <td>0.753942</td>\n",
       "      <td>0.000000</td>\n",
       "    </tr>\n",
       "    <tr>\n",
       "      <th>1</th>\n",
       "      <td>5.438700e-02</td>\n",
       "      <td>2.657090</td>\n",
       "      <td>-1.748040</td>\n",
       "      <td>2.141660</td>\n",
       "      <td>-1.197810</td>\n",
       "      <td>2</td>\n",
       "      <td>52</td>\n",
       "      <td>0</td>\n",
       "      <td>2.453866</td>\n",
       "      <td>1.626227</td>\n",
       "      <td>-0.647576</td>\n",
       "      <td>1.750420</td>\n",
       "      <td>1.603904</td>\n",
       "      <td>1.202027</td>\n",
       "    </tr>\n",
       "    <tr>\n",
       "      <th>2</th>\n",
       "      <td>1.086780e-01</td>\n",
       "      <td>2.164290</td>\n",
       "      <td>-3.759000</td>\n",
       "      <td>-0.492803</td>\n",
       "      <td>-2.010960</td>\n",
       "      <td>3</td>\n",
       "      <td>69</td>\n",
       "      <td>0</td>\n",
       "      <td>2.070462</td>\n",
       "      <td>-2.634463</td>\n",
       "      <td>-0.813150</td>\n",
       "      <td>2.757101</td>\n",
       "      <td>1.759423</td>\n",
       "      <td>0.891624</td>\n",
       "    </tr>\n",
       "    <tr>\n",
       "      <th>3</th>\n",
       "      <td>1.628460e-01</td>\n",
       "      <td>2.328450</td>\n",
       "      <td>-4.241620</td>\n",
       "      <td>0.164165</td>\n",
       "      <td>-0.482619</td>\n",
       "      <td>1</td>\n",
       "      <td>53</td>\n",
       "      <td>0</td>\n",
       "      <td>0.509776</td>\n",
       "      <td>0.656968</td>\n",
       "      <td>1.528341</td>\n",
       "      <td>1.663560</td>\n",
       "      <td>1.447011</td>\n",
       "      <td>0.959375</td>\n",
       "    </tr>\n",
       "    <tr>\n",
       "      <th>4</th>\n",
       "      <td>2.159340e-01</td>\n",
       "      <td>1.900660</td>\n",
       "      <td>-4.219400</td>\n",
       "      <td>-0.427793</td>\n",
       "      <td>0.022222</td>\n",
       "      <td>2</td>\n",
       "      <td>57</td>\n",
       "      <td>0</td>\n",
       "      <td>0.428370</td>\n",
       "      <td>-0.591958</td>\n",
       "      <td>0.504841</td>\n",
       "      <td>0.777996</td>\n",
       "      <td>1.243283</td>\n",
       "      <td>0.947537</td>\n",
       "    </tr>\n",
       "  </tbody>\n",
       "</table>\n",
       "</div>"
      ],
      "text/plain": [
       "      timestamp         x         y        vx        vy  action  ping_ms  \\\n",
       "0  8.300000e-08  0.515433 -0.550234  0.515433 -0.550234       2       37   \n",
       "1  5.438700e-02  2.657090 -1.748040  2.141660 -1.197810       2       52   \n",
       "2  1.086780e-01  2.164290 -3.759000 -0.492803 -2.010960       3       69   \n",
       "3  1.628460e-01  2.328450 -4.241620  0.164165 -0.482619       1       53   \n",
       "4  2.159340e-01  1.900660 -4.219400 -0.427793  0.022222       2       57   \n",
       "\n",
       "   cheat_flag     speed   accel_x   accel_y  accel_mag  speed_roll_mean  \\\n",
       "0           0  0.753942  0.000000  0.000000   0.000000         0.753942   \n",
       "1           0  2.453866  1.626227 -0.647576   1.750420         1.603904   \n",
       "2           0  2.070462 -2.634463 -0.813150   2.757101         1.759423   \n",
       "3           0  0.509776  0.656968  1.528341   1.663560         1.447011   \n",
       "4           0  0.428370 -0.591958  0.504841   0.777996         1.243283   \n",
       "\n",
       "   speed_roll_std  \n",
       "0        0.000000  \n",
       "1        1.202027  \n",
       "2        0.891624  \n",
       "3        0.959375  \n",
       "4        0.947537  "
      ]
     },
     "execution_count": 3,
     "metadata": {},
     "output_type": "execute_result"
    }
   ],
   "source": [
    "import pandas as pd\n",
    "import numpy as np\n",
    "from pathlib import Path\n",
    "\n",
    "DATA = Path(\"../data/telemetry.csv\")\n",
    "df = pd.read_csv(DATA)\n",
    "\n",
    "assert set(df.columns) == {\n",
    "    \"timestamp\",\"x\",\"y\",\"vx\",\"vy\",\"action\",\"ping_ms\",\"cheat_flag\"\n",
    "}\n",
    "\n",
    "# Basic features\n",
    "df[\"speed\"] = np.sqrt(df[\"vx\"]**2 + df[\"vy\"]**2)\n",
    "df[\"accel_x\"] = df[\"vx\"].diff().fillna(0)\n",
    "df[\"accel_y\"] = df[\"vy\"].diff().fillna(0)\n",
    "df[\"accel_mag\"] = np.sqrt(df[\"accel_x\"]**2 + df[\"accel_y\"]**2)\n",
    "\n",
    "# Small rolling context (captures local spikes)\n",
    "df[\"speed_roll_mean\"] = df[\"speed\"].rolling(5, min_periods=1).mean()\n",
    "df[\"speed_roll_std\"]  = df[\"speed\"].rolling(5, min_periods=1).std().fillna(0)\n",
    "\n",
    "df.head()\n"
   ]
  },
  {
   "cell_type": "code",
   "execution_count": 4,
   "metadata": {},
   "outputs": [
    {
     "name": "stderr",
     "output_type": "stream",
     "text": [
      "Matplotlib is building the font cache; this may take a moment.\n"
     ]
    },
    {
     "data": {
      "image/png": "[encoded data removed]",
      "text/plain": [
       "<Figure size 640x480 with 1 Axes>"
      ]
     },
     "metadata": {},
     "output_type": "display_data"
    },
    {
     "data": {
      "image/png": "[encoded data removed]",
      "text/plain": [
       "<Figure size 640x480 with 1 Axes>"
      ]
     },
     "metadata": {},
     "output_type": "display_data"
    }
   ],
   "source": [
    "import matplotlib.pyplot as plt\n",
    "\n",
    "plt.figure()\n",
    "df[\"speed\"].plot(title=\"Speed over time\")\n",
    "plt.xlabel(\"tick\"); plt.ylabel(\"speed\")\n",
    "plt.show()\n",
    "\n",
    "plt.figure()\n",
    "df.loc[df[\"cheat_flag\"]==0,\"speed\"].hist(alpha=0.7, bins=20, label=\"normal\")\n",
    "df.loc[df[\"cheat_flag\"]==1,\"speed\"].hist(alpha=0.7, bins=20, label=\"cheat\")\n",
    "plt.legend(); plt.title(\"Speed distribution: normal vs cheat\")\n",
    "plt.show()"
   ]
  },
  {
   "cell_type": "code",
   "execution_count": 5,
   "metadata": {},
   "outputs": [],
   "source": [
    "features = [\"speed\",\"accel_mag\",\"speed_roll_mean\",\"speed_roll_std\",\"ping_ms\",\"action\"]\n",
    "X = df[features].values\n",
    "y = df[\"cheat_flag\"].values\n",
    "\n",
    "split = int(len(df)*0.7)\n",
    "X_train, X_test = X[:split], X[split:]\n",
    "y_train, y_test = y[:split], y[split:]\n"
   ]
  },
  {
   "cell_type": "code",
   "execution_count": 6,
   "metadata": {},
   "outputs": [
    {
     "data": {
      "text/plain": [
       "(array([[ 5, 14],\n",
       "        [ 0, 11]]),\n",
       " 0.44,\n",
       " 1.0,\n",
       " 0.6111111111111112)"
      ]
     },
     "execution_count": 6,
     "metadata": {},
     "output_type": "execute_result"
    }
   ],
   "source": [
    "from sklearn.ensemble import IsolationForest\n",
    "from sklearn.metrics import confusion_matrix, precision_recall_fscore_support\n",
    "\n",
    "iso = IsolationForest(\n",
    "    n_estimators=200,\n",
    "    contamination=\"auto\",\n",
    "    random_state=42,\n",
    ")\n",
    "iso.fit(X_train)\n",
    "\n",
    "# IsolationForest gives -1 for outliers, 1 for inliers\n",
    "pred_train = (iso.predict(X_train) == -1).astype(int)  # 1 = predicted cheat\n",
    "pred_test  = (iso.predict(X_test)  == -1).astype(int)\n",
    "\n",
    "cm = confusion_matrix(y_test, pred_test, labels=[0,1])\n",
    "prec, rec, f1, _ = precision_recall_fscore_support(y_test, pred_test, average=\"binary\", pos_label=1)\n",
    "cm, prec, rec, f1\n"
   ]
  },
  {
   "cell_type": "code",
   "execution_count": 7,
   "metadata": {},
   "outputs": [
    {
     "ename": "ValueError",
     "evalue": "This solver needs samples of at least 2 classes in the data, but the data contains only one class: np.int64(0)",
     "output_type": "error",
     "traceback": [
      "\u001b[31m---------------------------------------------------------------------------\u001b[39m",
      "\u001b[31mValueError\u001b[39m                                Traceback (most recent call last)",
      "\u001b[36mCell\u001b[39m\u001b[36m \u001b[39m\u001b[32mIn[7]\u001b[39m\u001b[32m, line 10\u001b[39m\n\u001b[32m      4\u001b[39m \u001b[38;5;28;01mfrom\u001b[39;00m\u001b[38;5;250m \u001b[39m\u001b[34;01msklearn\u001b[39;00m\u001b[34;01m.\u001b[39;00m\u001b[34;01mmetrics\u001b[39;00m\u001b[38;5;250m \u001b[39m\u001b[38;5;28;01mimport\u001b[39;00m roc_auc_score, average_precision_score\n\u001b[32m      6\u001b[39m logreg = Pipeline([\n\u001b[32m      7\u001b[39m     (\u001b[33m\"\u001b[39m\u001b[33mscaler\u001b[39m\u001b[33m\"\u001b[39m, StandardScaler()),\n\u001b[32m      8\u001b[39m     (\u001b[33m\"\u001b[39m\u001b[33mclf\u001b[39m\u001b[33m\"\u001b[39m, LogisticRegression(max_iter=\u001b[32m500\u001b[39m, class_weight=\u001b[33m\"\u001b[39m\u001b[33mbalanced\u001b[39m\u001b[33m\"\u001b[39m, random_state=\u001b[32m42\u001b[39m))\n\u001b[32m      9\u001b[39m ])\n\u001b[32m---> \u001b[39m\u001b[32m10\u001b[39m \u001b[43mlogreg\u001b[49m\u001b[43m.\u001b[49m\u001b[43mfit\u001b[49m\u001b[43m(\u001b[49m\u001b[43mX_train\u001b[49m\u001b[43m,\u001b[49m\u001b[43m \u001b[49m\u001b[43my_train\u001b[49m\u001b[43m)\u001b[49m\n\u001b[32m     12\u001b[39m proba_test = logreg.predict_proba(X_test)[:,\u001b[32m1\u001b[39m]\n\u001b[32m     13\u001b[39m pred_test  = (proba_test >= \u001b[32m0.5\u001b[39m).astype(\u001b[38;5;28mint\u001b[39m)\n",
      "\u001b[36mFile \u001b[39m\u001b[32m~/anti-cheat/.venv/lib/python3.11/site-packages/sklearn/base.py:1365\u001b[39m, in \u001b[36m_fit_context.<locals>.decorator.<locals>.wrapper\u001b[39m\u001b[34m(estimator, *args, **kwargs)\u001b[39m\n\u001b[32m   1358\u001b[39m     estimator._validate_params()\n\u001b[32m   1360\u001b[39m \u001b[38;5;28;01mwith\u001b[39;00m config_context(\n\u001b[32m   1361\u001b[39m     skip_parameter_validation=(\n\u001b[32m   1362\u001b[39m         prefer_skip_nested_validation \u001b[38;5;129;01mor\u001b[39;00m global_skip_validation\n\u001b[32m   1363\u001b[39m     )\n\u001b[32m   1364\u001b[39m ):\n\u001b[32m-> \u001b[39m\u001b[32m1365\u001b[39m     \u001b[38;5;28;01mreturn\u001b[39;00m \u001b[43mfit_method\u001b[49m\u001b[43m(\u001b[49m\u001b[43mestimator\u001b[49m\u001b[43m,\u001b[49m\u001b[43m \u001b[49m\u001b[43m*\u001b[49m\u001b[43margs\u001b[49m\u001b[43m,\u001b[49m\u001b[43m \u001b[49m\u001b[43m*\u001b[49m\u001b[43m*\u001b[49m\u001b[43mkwargs\u001b[49m\u001b[43m)\u001b[49m\n",
      "\u001b[36mFile \u001b[39m\u001b[32m~/anti-cheat/.venv/lib/python3.11/site-packages/sklearn/pipeline.py:663\u001b[39m, in \u001b[36mPipeline.fit\u001b[39m\u001b[34m(self, X, y, **params)\u001b[39m\n\u001b[32m    657\u001b[39m     \u001b[38;5;28;01mif\u001b[39;00m \u001b[38;5;28mself\u001b[39m._final_estimator != \u001b[33m\"\u001b[39m\u001b[33mpassthrough\u001b[39m\u001b[33m\"\u001b[39m:\n\u001b[32m    658\u001b[39m         last_step_params = \u001b[38;5;28mself\u001b[39m._get_metadata_for_step(\n\u001b[32m    659\u001b[39m             step_idx=\u001b[38;5;28mlen\u001b[39m(\u001b[38;5;28mself\u001b[39m) - \u001b[32m1\u001b[39m,\n\u001b[32m    660\u001b[39m             step_params=routed_params[\u001b[38;5;28mself\u001b[39m.steps[-\u001b[32m1\u001b[39m][\u001b[32m0\u001b[39m]],\n\u001b[32m    661\u001b[39m             all_params=params,\n\u001b[32m    662\u001b[39m         )\n\u001b[32m--> \u001b[39m\u001b[32m663\u001b[39m         \u001b[38;5;28;43mself\u001b[39;49m\u001b[43m.\u001b[49m\u001b[43m_final_estimator\u001b[49m\u001b[43m.\u001b[49m\u001b[43mfit\u001b[49m\u001b[43m(\u001b[49m\u001b[43mXt\u001b[49m\u001b[43m,\u001b[49m\u001b[43m \u001b[49m\u001b[43my\u001b[49m\u001b[43m,\u001b[49m\u001b[43m \u001b[49m\u001b[43m*\u001b[49m\u001b[43m*\u001b[49m\u001b[43mlast_step_params\u001b[49m\u001b[43m[\u001b[49m\u001b[33;43m\"\u001b[39;49m\u001b[33;43mfit\u001b[39;49m\u001b[33;43m\"\u001b[39;49m\u001b[43m]\u001b[49m\u001b[43m)\u001b[49m\n\u001b[32m    665\u001b[39m \u001b[38;5;28;01mreturn\u001b[39;00m \u001b[38;5;28mself\u001b[39m\n",
      "\u001b[36mFile \u001b[39m\u001b[32m~/anti-cheat/.venv/lib/python3.11/site-packages/sklearn/base.py:1365\u001b[39m, in \u001b[36m_fit_context.<locals>.decorator.<locals>.wrapper\u001b[39m\u001b[34m(estimator, *args, **kwargs)\u001b[39m\n\u001b[32m   1358\u001b[39m     estimator._validate_params()\n\u001b[32m   1360\u001b[39m \u001b[38;5;28;01mwith\u001b[39;00m config_context(\n\u001b[32m   1361\u001b[39m     skip_parameter_validation=(\n\u001b[32m   1362\u001b[39m         prefer_skip_nested_validation \u001b[38;5;129;01mor\u001b[39;00m global_skip_validation\n\u001b[32m   1363\u001b[39m     )\n\u001b[32m   1364\u001b[39m ):\n\u001b[32m-> \u001b[39m\u001b[32m1365\u001b[39m     \u001b[38;5;28;01mreturn\u001b[39;00m \u001b[43mfit_method\u001b[49m\u001b[43m(\u001b[49m\u001b[43mestimator\u001b[49m\u001b[43m,\u001b[49m\u001b[43m \u001b[49m\u001b[43m*\u001b[49m\u001b[43margs\u001b[49m\u001b[43m,\u001b[49m\u001b[43m \u001b[49m\u001b[43m*\u001b[49m\u001b[43m*\u001b[49m\u001b[43mkwargs\u001b[49m\u001b[43m)\u001b[49m\n",
      "\u001b[36mFile \u001b[39m\u001b[32m~/anti-cheat/.venv/lib/python3.11/site-packages/sklearn/linear_model/_logistic.py:1335\u001b[39m, in \u001b[36mLogisticRegression.fit\u001b[39m\u001b[34m(self, X, y, sample_weight)\u001b[39m\n\u001b[32m   1333\u001b[39m classes_ = \u001b[38;5;28mself\u001b[39m.classes_\n\u001b[32m   1334\u001b[39m \u001b[38;5;28;01mif\u001b[39;00m n_classes < \u001b[32m2\u001b[39m:\n\u001b[32m-> \u001b[39m\u001b[32m1335\u001b[39m     \u001b[38;5;28;01mraise\u001b[39;00m \u001b[38;5;167;01mValueError\u001b[39;00m(\n\u001b[32m   1336\u001b[39m         \u001b[33m\"\u001b[39m\u001b[33mThis solver needs samples of at least 2 classes\u001b[39m\u001b[33m\"\u001b[39m\n\u001b[32m   1337\u001b[39m         \u001b[33m\"\u001b[39m\u001b[33m in the data, but the data contains only one\u001b[39m\u001b[33m\"\u001b[39m\n\u001b[32m   1338\u001b[39m         \u001b[33m\"\u001b[39m\u001b[33m class: \u001b[39m\u001b[38;5;132;01m%r\u001b[39;00m\u001b[33m\"\u001b[39m % classes_[\u001b[32m0\u001b[39m]\n\u001b[32m   1339\u001b[39m     )\n\u001b[32m   1341\u001b[39m \u001b[38;5;28;01mif\u001b[39;00m \u001b[38;5;28mlen\u001b[39m(\u001b[38;5;28mself\u001b[39m.classes_) == \u001b[32m2\u001b[39m:\n\u001b[32m   1342\u001b[39m     n_classes = \u001b[32m1\u001b[39m\n",
      "\u001b[31mValueError\u001b[39m: This solver needs samples of at least 2 classes in the data, but the data contains only one class: np.int64(0)"
     ]
    }
   ],
   "source": [
    "from sklearn.linear_model import LogisticRegression\n",
    "from sklearn.preprocessing import StandardScaler\n",
    "from sklearn.pipeline import Pipeline\n",
    "from sklearn.metrics import roc_auc_score, average_precision_score\n",
    "\n",
    "logreg = Pipeline([\n",
    "    (\"scaler\", StandardScaler()),\n",
    "    (\"clf\", LogisticRegression(max_iter=500, class_weight=\"balanced\", random_state=42))\n",
    "])\n",
    "logreg.fit(X_train, y_train)\n",
    "\n",
    "proba_test = logreg.predict_proba(X_test)[:,1]\n",
    "pred_test  = (proba_test >= 0.5).astype(int)\n",
    "\n",
    "cm = confusion_matrix(y_test, pred_test, labels=[0,1])\n",
    "prec, rec, f1, _ = precision_recall_fscore_support(y_test, pred_test, average=\"binary\", pos_label=1)\n",
    "roc = roc_auc_score(y_test, proba_test)\n",
    "pr_auc = average_precision_score(y_test, proba_test)\n",
    "\n",
    "print(\"CM:\\n\", cm)\n",
    "print(f\"precision={prec:.3f} recall={rec:.3f} f1={f1:.3f} ROC-AUC={roc:.3f} PR-AUC={pr_auc:.3f}\")\n"
   ]
  },
  {
   "cell_type": "code",
   "execution_count": null,
   "metadata": {},
   "outputs": [],
   "source": [
    "threshold = 0.35  # try 0.3..0.6 based on your goals\n",
    "pred_test = (proba_test >= threshold).astype(int)\n"
   ]
  },
  {
   "cell_type": "code",
   "execution_count": null,
   "metadata": {},
   "outputs": [],
   "source": [
    "from sklearn.metrics import roc_curve, precision_recall_curve\n",
    "\n",
    "fpr, tpr, _ = roc_curve(y_test, proba_test)\n",
    "precisions, recalls, _ = precision_recall_curve(y_test, proba_test)\n",
    "\n",
    "plt.figure(); plt.plot(fpr, tpr); plt.plot([0,1],[0,1],'--'); plt.title(\"ROC\")\n",
    "plt.xlabel(\"FPR\"); plt.ylabel(\"TPR\"); plt.show()\n",
    "\n",
    "plt.figure(); plt.plot(recalls, precisions); plt.title(\"Precision-Recall\")\n",
    "plt.xlabel(\"Recall\"); plt.ylabel(\"Precision\"); plt.show()"
   ]
  },
  {
   "cell_type": "code",
   "execution_count": null,
   "metadata": {},
   "outputs": [],
   "source": [
    "import joblib, time, os\n",
    "os.makedirs(\"../models\", exist_ok=True)\n",
    "ts = time.strftime(\"%Y%m%d_%H%M%S\")\n",
    "\n",
    "joblib.dump(iso,    f\"../models/iso_{ts}.joblib\")\n",
    "joblib.dump(logreg, f\"../models/logreg_{ts}.joblib\")\n",
    "print(\"Saved models to ../models/\")"
   ]
  },
  {
   "cell_type": "code",
   "execution_count": null,
   "metadata": {},
   "outputs": [],
   "source": [
    "with open(\"../models/feature_order.txt\",\"w\") as f:\n",
    "    f.write(\"\\n\".join(features))"
   ]
  },
  {
   "cell_type": "code",
   "execution_count": null,
   "metadata": {},
   "outputs": [],
   "source": [
    "import json\n",
    "from sklearn.linear_model import LogisticRegression\n",
    "\n",
    "clf = logreg.named_steps[\"clf\"]\n",
    "scaler = logreg.named_steps[\"scaler\"]\n",
    "\n",
    "export = {\n",
    "  \"type\": \"logistic_regression\",\n",
    "  \"features\": features,\n",
    "  \"scaler_mean\": scaler.mean_.tolist(),\n",
    "  \"scaler_scale\": scaler.scale_.tolist(),\n",
    "  \"coef\": clf.coef_[0].tolist(),\n",
    "  \"intercept\": float(clf.intercept_[0]),\n",
    "  \"decision_threshold\": 0.5  # tune as needed\n",
    "}\n",
    "with open(\"../models/logreg_export.json\",\"w\") as f:\n",
    "    json.dump(export, f, indent=2)\n",
    "print(\"Wrote ../models/logreg_export.json\")"
   ]
  }
 ],
 "metadata": {
  "kernelspec": {
   "display_name": ".venv",
   "language": "python",
   "name": "python3"
  },
  "language_info": {
   "codemirror_mode": {
    "name": "ipython",
    "version": 3
   },
   "file_extension": ".py",
   "mimetype": "text/x-python",
   "name": "python",
   "nbconvert_exporter": "python",
   "pygments_lexer": "ipython3",
   "version": "3.11.5"
  }
 },
 "nbformat": 4,
 "nbformat_minor": 2
}
