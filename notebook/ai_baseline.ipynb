{
 "cells": [
  {
   "cell_type": "code",
   "execution_count": 1,
   "metadata": {},
   "outputs": [],
   "source": [
    "import glob\n",
    "import pandas as pd\n",
    "import numpy as np\n",
    "from pathlib import Path\n",
    "\n",
    "files = sorted(glob.glob(\"../data/telemetry_run*.csv\"))\n",
    "if not files: files = [\"../data/telemetry.csv\"]   # fallback\n",
    "\n",
    "dfs = [pd.read_csv(p) for p in files]\n",
    "df = pd.concat(dfs, ignore_index=True)\n",
    "\n",
    "assert set(df.columns) == {\n",
    "    \"timestamp\",\"x\",\"y\",\"vx\",\"vy\",\"action\",\"ping_ms\",\"cheat_flag\"\n",
    "}\n"
   ]
  },
  {
   "cell_type": "code",
   "execution_count": 2,
   "metadata": {},
   "outputs": [],
   "source": [
    "df = df.copy()\n",
    "\n",
    "# speed\n",
    "df[\"speed\"] = np.sqrt(df[\"vx\"]**2 + df[\"vy\"]**2)\n",
    "\n",
    "# accel from differences of velocity (Δvx, Δvy)\n",
    "df[\"ax\"] = df[\"vx\"].diff().fillna(0.0)\n",
    "df[\"ay\"] = df[\"vy\"].diff().fillna(0.0)\n",
    "df.loc[df.index[0], [\"ax\",\"ay\"]] = 0.0  # first row has no prev\n",
    "df[\"accel_mag\"] = np.sqrt(df[\"ax\"]**2 + df[\"ay\"]**2)\n",
    "\n",
    "# trailing rolling window (size=5) of speed — same as agent\n",
    "W = 5\n",
    "df[\"speed_roll_mean\"] = df[\"speed\"].rolling(W, min_periods=1).mean()\n",
    "df[\"speed_roll_std\"]  = df[\"speed\"].rolling(W, min_periods=1).std().fillna(0.0)\n",
    "\n",
    "FEATURES = [\"speed\",\"accel_mag\",\"speed_roll_mean\",\"speed_roll_std\",\"ping_ms\",\"action\"]\n",
    "X = df[FEATURES].values\n",
    "y = df[\"cheat_flag\"].values.astype(int)\n"
   ]
  },
  {
   "cell_type": "code",
   "execution_count": 3,
   "metadata": {},
   "outputs": [
    {
     "name": "stdout",
     "output_type": "stream",
     "text": [
      "Train counts: [218  22]\n",
      "Test  counts: [49 11]\n"
     ]
    }
   ],
   "source": [
    "# Simple blocked split: first 80% train, last 20% test\n",
    "split = int(len(df)*0.80)\n",
    "X_train, X_test = X[:split], X[split:]\n",
    "y_train, y_test = y[:split], y[split:]\n",
    "\n",
    "# Safety: ensure both classes in train\n",
    "import numpy as np\n",
    "print(\"Train counts:\", np.bincount(y_train))\n",
    "print(\"Test  counts:\", np.bincount(y_test))\n",
    "assert len(np.unique(y_train)) == 2, \"Adjust split or generate more data\"\n"
   ]
  },
  {
   "cell_type": "code",
   "execution_count": 4,
   "metadata": {},
   "outputs": [
    {
     "name": "stdout",
     "output_type": "stream",
     "text": [
      "CM:\n",
      " [[49  0]\n",
      " [ 0 11]]\n",
      "precision=1.000 recall=1.000 f1=1.000 ROC-AUC=1.000 PR-AUC=1.000\n"
     ]
    }
   ],
   "source": [
    "from sklearn.pipeline import Pipeline\n",
    "from sklearn.preprocessing import StandardScaler\n",
    "from sklearn.linear_model import LogisticRegression\n",
    "from sklearn.metrics import (confusion_matrix, precision_recall_fscore_support,\n",
    "                             roc_auc_score, average_precision_score)\n",
    "\n",
    "logreg = Pipeline([\n",
    "    (\"scaler\", StandardScaler()),\n",
    "    (\"clf\", LogisticRegression(max_iter=1000, class_weight=\"balanced\", random_state=42))\n",
    "])\n",
    "logreg.fit(X_train, y_train)\n",
    "\n",
    "proba_test = logreg.predict_proba(X_test)[:,1]\n",
    "pred_test  = (proba_test >= 0.5).astype(int)\n",
    "\n",
    "cm = confusion_matrix(y_test, pred_test, labels=[0,1])\n",
    "prec, rec, f1, _ = precision_recall_fscore_support(y_test, pred_test, average=\"binary\")\n",
    "roc = roc_auc_score(y_test, proba_test)\n",
    "pr  = average_precision_score(y_test, proba_test)\n",
    "\n",
    "print(\"CM:\\n\", cm)\n",
    "print(f\"precision={prec:.3f} recall={rec:.3f} f1={f1:.3f} ROC-AUC={roc:.3f} PR-AUC={pr:.3f}\")\n"
   ]
  },
  {
   "cell_type": "code",
   "execution_count": 5,
   "metadata": {},
   "outputs": [
    {
     "name": "stdout",
     "output_type": "stream",
     "text": [
      "Best by F1 -> F1=1.000, P=1.000, R=1.000 at thr=0.76\n"
     ]
    }
   ],
   "source": [
    "import numpy as np\n",
    "from sklearn.metrics import precision_recall_fscore_support\n",
    "\n",
    "best = None\n",
    "for thr in np.linspace(0.2, 0.9, 36):\n",
    "    pred = (proba_test >= thr).astype(int)\n",
    "    p, r, f, _ = precision_recall_fscore_support(y_test, pred, average='binary')\n",
    "    cand = (f, p, r, thr)\n",
    "    if (best is None) or (cand > best):\n",
    "        best = cand\n",
    "print(\"Best by F1 -> F1=%.3f, P=%.3f, R=%.3f at thr=%.2f\" % best)\n"
   ]
  },
  {
   "cell_type": "code",
   "execution_count": 6,
   "metadata": {},
   "outputs": [
    {
     "name": "stdout",
     "output_type": "stream",
     "text": [
      "Wrote ../models/logreg_export_20251014_114917.json\n"
     ]
    }
   ],
   "source": [
    "import json, os, time\n",
    "\n",
    "scaler = logreg.named_steps[\"scaler\"]\n",
    "clf    = logreg.named_steps[\"clf\"]\n",
    "\n",
    "export = {\n",
    "  \"schema_version\": 1,\n",
    "  \"type\": \"logistic_regression\",\n",
    "  \"features\": FEATURES,                       # order matters!\n",
    "  \"scaler_mean\": scaler.mean_.tolist(),\n",
    "  \"scaler_scale\": scaler.scale_.tolist(),\n",
    "  \"coef\": clf.coef_[0].tolist(),\n",
    "  \"intercept\": float(clf.intercept_[0]),\n",
    "  \"decision_threshold\": 0.70,                 # <= put your chosen threshold here\n",
    "  \"notes\": \"trained on concatenated runs; trailing window=5; accel=diff(v)\"\n",
    "}\n",
    "\n",
    "os.makedirs(\"../models\", exist_ok=True)\n",
    "ts = time.strftime(\"%Y%m%d_%H%M%S\")\n",
    "with open(f\"../models/logreg_export_{ts}.json\",\"w\") as f:\n",
    "    json.dump(export, f, indent=2)\n",
    "print(\"Wrote\", f\"../models/logreg_export_{ts}.json\")\n"
   ]
  }
 ],
 "metadata": {
  "kernelspec": {
   "display_name": ".venv",
   "language": "python",
   "name": "python3"
  },
  "language_info": {
   "codemirror_mode": {
    "name": "ipython",
    "version": 3
   },
   "file_extension": ".py",
   "mimetype": "text/x-python",
   "name": "python",
   "nbconvert_exporter": "python",
   "pygments_lexer": "ipython3",
   "version": "3.11.5"
  }
 },
 "nbformat": 4,
 "nbformat_minor": 2
}
